{
 "cells": [
  {
   "cell_type": "code",
   "execution_count": 1,
   "metadata": {
    "collapsed": false
   },
   "outputs": [
    {
     "name": "stdout",
     "output_type": "stream",
     "text": [
      "[[  56.     0.     4.4   68. ]\n",
      " [   1.2  104.    52.     8. ]\n",
      " [   1.8  135.    99.     0.9]]\n"
     ]
    }
   ],
   "source": [
    "import numpy as np \n",
    "\n",
    "A = np.array([[56.0, 0.0, 4.4, 68.0], \n",
    "              [1.2, 104.0, 52.0, 8.0], \n",
    "              [1.8, 135.0, 99.0, 0.9]])\n",
    "\n",
    "print(A)"
   ]
  },
  {
   "cell_type": "code",
   "execution_count": 2,
   "metadata": {
    "collapsed": false
   },
   "outputs": [
    {
     "name": "stdout",
     "output_type": "stream",
     "text": [
      "[  59.   239.   155.4   76.9]\n"
     ]
    }
   ],
   "source": [
    "cal = A.sum(axis = 0)  # sum columnwise\n",
    "print(cal)"
   ]
  },
  {
   "cell_type": "code",
   "execution_count": 6,
   "metadata": {
    "collapsed": false
   },
   "outputs": [
    {
     "name": "stdout",
     "output_type": "stream",
     "text": [
      "[[ 94.91525424   0.           2.83140283  88.42652796]\n",
      " [  2.03389831  43.51464435  33.46203346  10.40312094]\n",
      " [  3.05084746  56.48535565  63.70656371   1.17035111]]\n"
     ]
    }
   ],
   "source": [
    "percentage = 100 * A / (cal.reshape(1,4))  # use reshape is optional; recommend to use when not sure about the dimension\n",
    "print(percentage)"
   ]
  },
  {
   "cell_type": "code",
   "execution_count": 5,
   "metadata": {
    "collapsed": false
   },
   "outputs": [
    {
     "data": {
      "text/plain": [
       "array([[ 94.91525424,   0.        ,   2.83140283,  88.42652796],\n",
       "       [  2.03389831,  43.51464435,  33.46203346,  10.40312094],\n",
       "       [  3.05084746,  56.48535565,  63.70656371,   1.17035111]])"
      ]
     },
     "execution_count": 5,
     "metadata": {},
     "output_type": "execute_result"
    }
   ],
   "source": [
    "100 * A / cal"
   ]
  },
  {
   "cell_type": "code",
   "execution_count": 9,
   "metadata": {
    "collapsed": false
   },
   "outputs": [
    {
     "name": "stdout",
     "output_type": "stream",
     "text": [
      "[ 0.92757353  0.56056957 -0.5661748  -0.18297256  0.41000106]\n"
     ]
    }
   ],
   "source": [
    "a = np.random.randn(5)\n",
    "print(a)"
   ]
  },
  {
   "cell_type": "code",
   "execution_count": 10,
   "metadata": {
    "collapsed": false
   },
   "outputs": [
    {
     "name": "stdout",
     "output_type": "stream",
     "text": [
      "(5,)\n"
     ]
    }
   ],
   "source": [
    "print(a.shape)"
   ]
  },
  {
   "cell_type": "code",
   "execution_count": 11,
   "metadata": {
    "collapsed": false
   },
   "outputs": [
    {
     "name": "stdout",
     "output_type": "stream",
     "text": [
      "[ 0.92757353  0.56056957 -0.5661748  -0.18297256  0.41000106]\n"
     ]
    }
   ],
   "source": [
    "print(a.T)"
   ]
  },
  {
   "cell_type": "code",
   "execution_count": 12,
   "metadata": {
    "collapsed": false
   },
   "outputs": [
    {
     "name": "stdout",
     "output_type": "stream",
     "text": [
      "1.69676462454\n"
     ]
    }
   ],
   "source": [
    "print(np.dot(a, a.T))"
   ]
  },
  {
   "cell_type": "code",
   "execution_count": 20,
   "metadata": {
    "collapsed": true
   },
   "outputs": [],
   "source": [
    "# Recommendation: not to use data structure like (5, )  \"rank 1 array\""
   ]
  },
  {
   "cell_type": "code",
   "execution_count": 14,
   "metadata": {
    "collapsed": false
   },
   "outputs": [
    {
     "name": "stdout",
     "output_type": "stream",
     "text": [
      "[[ 0.61238919]\n",
      " [-0.96913673]\n",
      " [ 0.22078921]\n",
      " [-0.55115525]\n",
      " [ 0.29510021]]\n",
      "[[ 0.61238919 -0.96913673  0.22078921 -0.55115525  0.29510021]]\n"
     ]
    }
   ],
   "source": [
    "a = np.random.randn(5, 1)\n",
    "print(a)\n",
    "print(a.T)"
   ]
  },
  {
   "cell_type": "code",
   "execution_count": 15,
   "metadata": {
    "collapsed": false
   },
   "outputs": [
    {
     "name": "stdout",
     "output_type": "stream",
     "text": [
      "[[ 0.37502052 -0.59348886  0.13520893 -0.33752152  0.18071618]\n",
      " [-0.59348886  0.93922601 -0.21397494  0.5341448  -0.28599245]\n",
      " [ 0.13520893 -0.21397494  0.04874788 -0.12168913  0.06515494]\n",
      " [-0.33752152  0.5341448  -0.12168913  0.30377211 -0.16264603]\n",
      " [ 0.18071618 -0.28599245  0.06515494 -0.16264603  0.08708413]]\n"
     ]
    }
   ],
   "source": [
    "print(np.dot(a, a.T))  # Return the outer product"
   ]
  },
  {
   "cell_type": "code",
   "execution_count": 16,
   "metadata": {
    "collapsed": true
   },
   "outputs": [],
   "source": [
    "assert(a.shape == (5, 1))"
   ]
  },
  {
   "cell_type": "code",
   "execution_count": 17,
   "metadata": {
    "collapsed": false
   },
   "outputs": [
    {
     "data": {
      "text/plain": [
       "(5, 1)"
      ]
     },
     "execution_count": 17,
     "metadata": {},
     "output_type": "execute_result"
    }
   ],
   "source": [
    "a.shape"
   ]
  }
 ],
 "metadata": {
  "kernelspec": {
   "display_name": "Python 3",
   "language": "python",
   "name": "python3"
  },
  "language_info": {
   "codemirror_mode": {
    "name": "ipython",
    "version": 3
   },
   "file_extension": ".py",
   "mimetype": "text/x-python",
   "name": "python",
   "nbconvert_exporter": "python",
   "pygments_lexer": "ipython3",
   "version": "3.5.1"
  }
 },
 "nbformat": 4,
 "nbformat_minor": 0
}
